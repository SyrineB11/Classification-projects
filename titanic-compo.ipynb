{
 "cells": [
  {
   "cell_type": "code",
   "execution_count": 1,
   "id": "77fda537",
   "metadata": {
    "_cell_guid": "b1076dfc-b9ad-4769-8c92-a6c4dae69d19",
    "_uuid": "8f2839f25d086af736a60e9eeb907d3b93b6e0e5",
    "execution": {
     "iopub.execute_input": "2022-03-14T22:20:14.877080Z",
     "iopub.status.busy": "2022-03-14T22:20:14.875811Z",
     "iopub.status.idle": "2022-03-14T22:20:14.894208Z",
     "shell.execute_reply": "2022-03-14T22:20:14.894867Z",
     "shell.execute_reply.started": "2022-03-14T22:18:25.007252Z"
    },
    "papermill": {
     "duration": 0.045253,
     "end_time": "2022-03-14T22:20:14.895246",
     "exception": false,
     "start_time": "2022-03-14T22:20:14.849993",
     "status": "completed"
    },
    "tags": []
   },
   "outputs": [
    {
     "name": "stdout",
     "output_type": "stream",
     "text": [
      "/kaggle/input/titanic/train.csv\n",
      "/kaggle/input/titanic/test.csv\n",
      "/kaggle/input/titanic/gender_submission.csv\n",
      "/kaggle/input/d/rahulsah06/titanic/train.csv\n",
      "/kaggle/input/d/rahulsah06/titanic/test.csv\n",
      "/kaggle/input/d/rahulsah06/titanic/gender_submission.csv\n"
     ]
    }
   ],
   "source": [
    "# This Python 3 environment comes with many helpful analytics libraries installed\n",
    "# It is defined by the kaggle/python docker image: https://github.com/kaggle/docker-python\n",
    "# For example, here's several helpful packages to load in \n",
    "\n",
    "import numpy as np # linear algebra\n",
    "import pandas as pd # data processing, CSV file I/O (e.g. pd.read_csv)\n",
    "\n",
    "# Input data files are available in the \"../input/\" directory.\n",
    "# For example, running this (by clicking run or pressing Shift+Enter) will list all files under the input directory\n",
    "\n",
    "import os\n",
    "for dirname, _, filenames in os.walk('/kaggle/input'):\n",
    "    for filename in filenames:\n",
    "        print(os.path.join(dirname, filename))\n",
    "\n",
    "# Any results you write to the current directory are saved as output."
   ]
  },
  {
   "cell_type": "code",
   "execution_count": 2,
   "id": "dc62a950",
   "metadata": {
    "execution": {
     "iopub.execute_input": "2022-03-14T22:20:14.941309Z",
     "iopub.status.busy": "2022-03-14T22:20:14.940556Z",
     "iopub.status.idle": "2022-03-14T22:20:14.974579Z",
     "shell.execute_reply": "2022-03-14T22:20:14.975152Z",
     "shell.execute_reply.started": "2022-03-14T22:18:25.023664Z"
    },
    "papermill": {
     "duration": 0.05832,
     "end_time": "2022-03-14T22:20:14.975588",
     "exception": false,
     "start_time": "2022-03-14T22:20:14.917268",
     "status": "completed"
    },
    "tags": []
   },
   "outputs": [],
   "source": [
    "train=pd.read_csv(\"/kaggle/input/d/rahulsah06/titanic/train.csv\")\n",
    "test=pd.read_csv(\"/kaggle/input/d/rahulsah06/titanic/test.csv\")\n",
    "test_ids=test['PassengerId']"
   ]
  },
  {
   "cell_type": "code",
   "execution_count": 3,
   "id": "2e9f52ed",
   "metadata": {
    "execution": {
     "iopub.execute_input": "2022-03-14T22:20:15.019943Z",
     "iopub.status.busy": "2022-03-14T22:20:15.019242Z",
     "iopub.status.idle": "2022-03-14T22:20:15.043522Z",
     "shell.execute_reply": "2022-03-14T22:20:15.044104Z",
     "shell.execute_reply.started": "2022-03-14T22:18:25.044162Z"
    },
    "papermill": {
     "duration": 0.048553,
     "end_time": "2022-03-14T22:20:15.044316",
     "exception": false,
     "start_time": "2022-03-14T22:20:14.995763",
     "status": "completed"
    },
    "tags": []
   },
   "outputs": [
    {
     "data": {
      "text/html": [
       "<div>\n",
       "<style scoped>\n",
       "    .dataframe tbody tr th:only-of-type {\n",
       "        vertical-align: middle;\n",
       "    }\n",
       "\n",
       "    .dataframe tbody tr th {\n",
       "        vertical-align: top;\n",
       "    }\n",
       "\n",
       "    .dataframe thead th {\n",
       "        text-align: right;\n",
       "    }\n",
       "</style>\n",
       "<table border=\"1\" class=\"dataframe\">\n",
       "  <thead>\n",
       "    <tr style=\"text-align: right;\">\n",
       "      <th></th>\n",
       "      <th>PassengerId</th>\n",
       "      <th>Survived</th>\n",
       "      <th>Pclass</th>\n",
       "      <th>Name</th>\n",
       "      <th>Sex</th>\n",
       "      <th>Age</th>\n",
       "      <th>SibSp</th>\n",
       "      <th>Parch</th>\n",
       "      <th>Ticket</th>\n",
       "      <th>Fare</th>\n",
       "      <th>Cabin</th>\n",
       "      <th>Embarked</th>\n",
       "    </tr>\n",
       "  </thead>\n",
       "  <tbody>\n",
       "    <tr>\n",
       "      <th>0</th>\n",
       "      <td>1</td>\n",
       "      <td>0</td>\n",
       "      <td>3</td>\n",
       "      <td>Braund, Mr. Owen Harris</td>\n",
       "      <td>male</td>\n",
       "      <td>22.0</td>\n",
       "      <td>1</td>\n",
       "      <td>0</td>\n",
       "      <td>A/5 21171</td>\n",
       "      <td>7.2500</td>\n",
       "      <td>NaN</td>\n",
       "      <td>S</td>\n",
       "    </tr>\n",
       "    <tr>\n",
       "      <th>1</th>\n",
       "      <td>2</td>\n",
       "      <td>1</td>\n",
       "      <td>1</td>\n",
       "      <td>Cumings, Mrs. John Bradley (Florence Briggs Th...</td>\n",
       "      <td>female</td>\n",
       "      <td>38.0</td>\n",
       "      <td>1</td>\n",
       "      <td>0</td>\n",
       "      <td>PC 17599</td>\n",
       "      <td>71.2833</td>\n",
       "      <td>C85</td>\n",
       "      <td>C</td>\n",
       "    </tr>\n",
       "    <tr>\n",
       "      <th>2</th>\n",
       "      <td>3</td>\n",
       "      <td>1</td>\n",
       "      <td>3</td>\n",
       "      <td>Heikkinen, Miss. Laina</td>\n",
       "      <td>female</td>\n",
       "      <td>26.0</td>\n",
       "      <td>0</td>\n",
       "      <td>0</td>\n",
       "      <td>STON/O2. 3101282</td>\n",
       "      <td>7.9250</td>\n",
       "      <td>NaN</td>\n",
       "      <td>S</td>\n",
       "    </tr>\n",
       "    <tr>\n",
       "      <th>3</th>\n",
       "      <td>4</td>\n",
       "      <td>1</td>\n",
       "      <td>1</td>\n",
       "      <td>Futrelle, Mrs. Jacques Heath (Lily May Peel)</td>\n",
       "      <td>female</td>\n",
       "      <td>35.0</td>\n",
       "      <td>1</td>\n",
       "      <td>0</td>\n",
       "      <td>113803</td>\n",
       "      <td>53.1000</td>\n",
       "      <td>C123</td>\n",
       "      <td>S</td>\n",
       "    </tr>\n",
       "    <tr>\n",
       "      <th>4</th>\n",
       "      <td>5</td>\n",
       "      <td>0</td>\n",
       "      <td>3</td>\n",
       "      <td>Allen, Mr. William Henry</td>\n",
       "      <td>male</td>\n",
       "      <td>35.0</td>\n",
       "      <td>0</td>\n",
       "      <td>0</td>\n",
       "      <td>373450</td>\n",
       "      <td>8.0500</td>\n",
       "      <td>NaN</td>\n",
       "      <td>S</td>\n",
       "    </tr>\n",
       "  </tbody>\n",
       "</table>\n",
       "</div>"
      ],
      "text/plain": [
       "   PassengerId  Survived  Pclass  \\\n",
       "0            1         0       3   \n",
       "1            2         1       1   \n",
       "2            3         1       3   \n",
       "3            4         1       1   \n",
       "4            5         0       3   \n",
       "\n",
       "                                                Name     Sex   Age  SibSp  \\\n",
       "0                            Braund, Mr. Owen Harris    male  22.0      1   \n",
       "1  Cumings, Mrs. John Bradley (Florence Briggs Th...  female  38.0      1   \n",
       "2                             Heikkinen, Miss. Laina  female  26.0      0   \n",
       "3       Futrelle, Mrs. Jacques Heath (Lily May Peel)  female  35.0      1   \n",
       "4                           Allen, Mr. William Henry    male  35.0      0   \n",
       "\n",
       "   Parch            Ticket     Fare Cabin Embarked  \n",
       "0      0         A/5 21171   7.2500   NaN        S  \n",
       "1      0          PC 17599  71.2833   C85        C  \n",
       "2      0  STON/O2. 3101282   7.9250   NaN        S  \n",
       "3      0            113803  53.1000  C123        S  \n",
       "4      0            373450   8.0500   NaN        S  "
      ]
     },
     "execution_count": 3,
     "metadata": {},
     "output_type": "execute_result"
    }
   ],
   "source": [
    "train.head()"
   ]
  },
  {
   "cell_type": "code",
   "execution_count": 4,
   "id": "acc2986f",
   "metadata": {
    "execution": {
     "iopub.execute_input": "2022-03-14T22:20:15.089823Z",
     "iopub.status.busy": "2022-03-14T22:20:15.089068Z",
     "iopub.status.idle": "2022-03-14T22:20:15.104399Z",
     "shell.execute_reply": "2022-03-14T22:20:15.104915Z",
     "shell.execute_reply.started": "2022-03-14T22:18:25.063697Z"
    },
    "papermill": {
     "duration": 0.039687,
     "end_time": "2022-03-14T22:20:15.105112",
     "exception": false,
     "start_time": "2022-03-14T22:20:15.065425",
     "status": "completed"
    },
    "tags": []
   },
   "outputs": [
    {
     "data": {
      "text/html": [
       "<div>\n",
       "<style scoped>\n",
       "    .dataframe tbody tr th:only-of-type {\n",
       "        vertical-align: middle;\n",
       "    }\n",
       "\n",
       "    .dataframe tbody tr th {\n",
       "        vertical-align: top;\n",
       "    }\n",
       "\n",
       "    .dataframe thead th {\n",
       "        text-align: right;\n",
       "    }\n",
       "</style>\n",
       "<table border=\"1\" class=\"dataframe\">\n",
       "  <thead>\n",
       "    <tr style=\"text-align: right;\">\n",
       "      <th></th>\n",
       "      <th>PassengerId</th>\n",
       "      <th>Pclass</th>\n",
       "      <th>Name</th>\n",
       "      <th>Sex</th>\n",
       "      <th>Age</th>\n",
       "      <th>SibSp</th>\n",
       "      <th>Parch</th>\n",
       "      <th>Ticket</th>\n",
       "      <th>Fare</th>\n",
       "      <th>Cabin</th>\n",
       "      <th>Embarked</th>\n",
       "    </tr>\n",
       "  </thead>\n",
       "  <tbody>\n",
       "    <tr>\n",
       "      <th>0</th>\n",
       "      <td>892</td>\n",
       "      <td>3</td>\n",
       "      <td>Kelly, Mr. James</td>\n",
       "      <td>male</td>\n",
       "      <td>34.5</td>\n",
       "      <td>0</td>\n",
       "      <td>0</td>\n",
       "      <td>330911</td>\n",
       "      <td>7.8292</td>\n",
       "      <td>NaN</td>\n",
       "      <td>Q</td>\n",
       "    </tr>\n",
       "    <tr>\n",
       "      <th>1</th>\n",
       "      <td>893</td>\n",
       "      <td>3</td>\n",
       "      <td>Wilkes, Mrs. James (Ellen Needs)</td>\n",
       "      <td>female</td>\n",
       "      <td>47.0</td>\n",
       "      <td>1</td>\n",
       "      <td>0</td>\n",
       "      <td>363272</td>\n",
       "      <td>7.0000</td>\n",
       "      <td>NaN</td>\n",
       "      <td>S</td>\n",
       "    </tr>\n",
       "    <tr>\n",
       "      <th>2</th>\n",
       "      <td>894</td>\n",
       "      <td>2</td>\n",
       "      <td>Myles, Mr. Thomas Francis</td>\n",
       "      <td>male</td>\n",
       "      <td>62.0</td>\n",
       "      <td>0</td>\n",
       "      <td>0</td>\n",
       "      <td>240276</td>\n",
       "      <td>9.6875</td>\n",
       "      <td>NaN</td>\n",
       "      <td>Q</td>\n",
       "    </tr>\n",
       "    <tr>\n",
       "      <th>3</th>\n",
       "      <td>895</td>\n",
       "      <td>3</td>\n",
       "      <td>Wirz, Mr. Albert</td>\n",
       "      <td>male</td>\n",
       "      <td>27.0</td>\n",
       "      <td>0</td>\n",
       "      <td>0</td>\n",
       "      <td>315154</td>\n",
       "      <td>8.6625</td>\n",
       "      <td>NaN</td>\n",
       "      <td>S</td>\n",
       "    </tr>\n",
       "    <tr>\n",
       "      <th>4</th>\n",
       "      <td>896</td>\n",
       "      <td>3</td>\n",
       "      <td>Hirvonen, Mrs. Alexander (Helga E Lindqvist)</td>\n",
       "      <td>female</td>\n",
       "      <td>22.0</td>\n",
       "      <td>1</td>\n",
       "      <td>1</td>\n",
       "      <td>3101298</td>\n",
       "      <td>12.2875</td>\n",
       "      <td>NaN</td>\n",
       "      <td>S</td>\n",
       "    </tr>\n",
       "  </tbody>\n",
       "</table>\n",
       "</div>"
      ],
      "text/plain": [
       "   PassengerId  Pclass                                          Name     Sex  \\\n",
       "0          892       3                              Kelly, Mr. James    male   \n",
       "1          893       3              Wilkes, Mrs. James (Ellen Needs)  female   \n",
       "2          894       2                     Myles, Mr. Thomas Francis    male   \n",
       "3          895       3                              Wirz, Mr. Albert    male   \n",
       "4          896       3  Hirvonen, Mrs. Alexander (Helga E Lindqvist)  female   \n",
       "\n",
       "    Age  SibSp  Parch   Ticket     Fare Cabin Embarked  \n",
       "0  34.5      0      0   330911   7.8292   NaN        Q  \n",
       "1  47.0      1      0   363272   7.0000   NaN        S  \n",
       "2  62.0      0      0   240276   9.6875   NaN        Q  \n",
       "3  27.0      0      0   315154   8.6625   NaN        S  \n",
       "4  22.0      1      1  3101298  12.2875   NaN        S  "
      ]
     },
     "execution_count": 4,
     "metadata": {},
     "output_type": "execute_result"
    }
   ],
   "source": [
    "test.head()"
   ]
  },
  {
   "cell_type": "code",
   "execution_count": 5,
   "id": "7d4997bc",
   "metadata": {
    "execution": {
     "iopub.execute_input": "2022-03-14T22:20:15.152617Z",
     "iopub.status.busy": "2022-03-14T22:20:15.150571Z",
     "iopub.status.idle": "2022-03-14T22:20:15.154675Z",
     "shell.execute_reply": "2022-03-14T22:20:15.155236Z",
     "shell.execute_reply.started": "2022-03-14T22:18:25.083222Z"
    },
    "papermill": {
     "duration": 0.029087,
     "end_time": "2022-03-14T22:20:15.155462",
     "exception": false,
     "start_time": "2022-03-14T22:20:15.126375",
     "status": "completed"
    },
    "tags": []
   },
   "outputs": [],
   "source": [
    "features=['Sex','Age','SibSp','Parch']\n"
   ]
  },
  {
   "cell_type": "code",
   "execution_count": 6,
   "id": "74c9689f",
   "metadata": {
    "execution": {
     "iopub.execute_input": "2022-03-14T22:20:15.202719Z",
     "iopub.status.busy": "2022-03-14T22:20:15.201957Z",
     "iopub.status.idle": "2022-03-14T22:20:15.216322Z",
     "shell.execute_reply": "2022-03-14T22:20:15.216942Z",
     "shell.execute_reply.started": "2022-03-14T22:18:25.089476Z"
    },
    "papermill": {
     "duration": 0.039468,
     "end_time": "2022-03-14T22:20:15.217163",
     "exception": false,
     "start_time": "2022-03-14T22:20:15.177695",
     "status": "completed"
    },
    "tags": []
   },
   "outputs": [],
   "source": [
    "train.Embarked.fillna(\"U\",inplace=True)\n",
    "test.Embarked.fillna(\"U\",inplace=True) #replaced all nans in embarked with u\n",
    "train.replace([np.inf, -np.inf], np.nan, inplace=True)\n",
    "test.replace([np.inf, -np.inf], np.nan, inplace=True)\n",
    "train.fillna(999, inplace=True)\n",
    "test.fillna(999, inplace=True)\n"
   ]
  },
  {
   "cell_type": "code",
   "execution_count": 7,
   "id": "a802ba59",
   "metadata": {
    "execution": {
     "iopub.execute_input": "2022-03-14T22:20:15.264494Z",
     "iopub.status.busy": "2022-03-14T22:20:15.263397Z",
     "iopub.status.idle": "2022-03-14T22:20:15.281786Z",
     "shell.execute_reply": "2022-03-14T22:20:15.281155Z",
     "shell.execute_reply.started": "2022-03-14T22:18:25.113042Z"
    },
    "papermill": {
     "duration": 0.043591,
     "end_time": "2022-03-14T22:20:15.281978",
     "exception": false,
     "start_time": "2022-03-14T22:20:15.238387",
     "status": "completed"
    },
    "tags": []
   },
   "outputs": [
    {
     "data": {
      "text/html": [
       "<div>\n",
       "<style scoped>\n",
       "    .dataframe tbody tr th:only-of-type {\n",
       "        vertical-align: middle;\n",
       "    }\n",
       "\n",
       "    .dataframe tbody tr th {\n",
       "        vertical-align: top;\n",
       "    }\n",
       "\n",
       "    .dataframe thead th {\n",
       "        text-align: right;\n",
       "    }\n",
       "</style>\n",
       "<table border=\"1\" class=\"dataframe\">\n",
       "  <thead>\n",
       "    <tr style=\"text-align: right;\">\n",
       "      <th></th>\n",
       "      <th>PassengerId</th>\n",
       "      <th>Survived</th>\n",
       "      <th>Pclass</th>\n",
       "      <th>Name</th>\n",
       "      <th>Sex</th>\n",
       "      <th>Age</th>\n",
       "      <th>SibSp</th>\n",
       "      <th>Parch</th>\n",
       "      <th>Ticket</th>\n",
       "      <th>Fare</th>\n",
       "      <th>Cabin</th>\n",
       "      <th>Embarked</th>\n",
       "    </tr>\n",
       "  </thead>\n",
       "  <tbody>\n",
       "    <tr>\n",
       "      <th>0</th>\n",
       "      <td>1</td>\n",
       "      <td>0</td>\n",
       "      <td>3</td>\n",
       "      <td>Braund, Mr. Owen Harris</td>\n",
       "      <td>male</td>\n",
       "      <td>22.0</td>\n",
       "      <td>1</td>\n",
       "      <td>0</td>\n",
       "      <td>A/5 21171</td>\n",
       "      <td>7.2500</td>\n",
       "      <td>999</td>\n",
       "      <td>S</td>\n",
       "    </tr>\n",
       "    <tr>\n",
       "      <th>1</th>\n",
       "      <td>2</td>\n",
       "      <td>1</td>\n",
       "      <td>1</td>\n",
       "      <td>Cumings, Mrs. John Bradley (Florence Briggs Th...</td>\n",
       "      <td>female</td>\n",
       "      <td>38.0</td>\n",
       "      <td>1</td>\n",
       "      <td>0</td>\n",
       "      <td>PC 17599</td>\n",
       "      <td>71.2833</td>\n",
       "      <td>C85</td>\n",
       "      <td>C</td>\n",
       "    </tr>\n",
       "    <tr>\n",
       "      <th>2</th>\n",
       "      <td>3</td>\n",
       "      <td>1</td>\n",
       "      <td>3</td>\n",
       "      <td>Heikkinen, Miss. Laina</td>\n",
       "      <td>female</td>\n",
       "      <td>26.0</td>\n",
       "      <td>0</td>\n",
       "      <td>0</td>\n",
       "      <td>STON/O2. 3101282</td>\n",
       "      <td>7.9250</td>\n",
       "      <td>999</td>\n",
       "      <td>S</td>\n",
       "    </tr>\n",
       "    <tr>\n",
       "      <th>3</th>\n",
       "      <td>4</td>\n",
       "      <td>1</td>\n",
       "      <td>1</td>\n",
       "      <td>Futrelle, Mrs. Jacques Heath (Lily May Peel)</td>\n",
       "      <td>female</td>\n",
       "      <td>35.0</td>\n",
       "      <td>1</td>\n",
       "      <td>0</td>\n",
       "      <td>113803</td>\n",
       "      <td>53.1000</td>\n",
       "      <td>C123</td>\n",
       "      <td>S</td>\n",
       "    </tr>\n",
       "    <tr>\n",
       "      <th>4</th>\n",
       "      <td>5</td>\n",
       "      <td>0</td>\n",
       "      <td>3</td>\n",
       "      <td>Allen, Mr. William Henry</td>\n",
       "      <td>male</td>\n",
       "      <td>35.0</td>\n",
       "      <td>0</td>\n",
       "      <td>0</td>\n",
       "      <td>373450</td>\n",
       "      <td>8.0500</td>\n",
       "      <td>999</td>\n",
       "      <td>S</td>\n",
       "    </tr>\n",
       "  </tbody>\n",
       "</table>\n",
       "</div>"
      ],
      "text/plain": [
       "   PassengerId  Survived  Pclass  \\\n",
       "0            1         0       3   \n",
       "1            2         1       1   \n",
       "2            3         1       3   \n",
       "3            4         1       1   \n",
       "4            5         0       3   \n",
       "\n",
       "                                                Name     Sex   Age  SibSp  \\\n",
       "0                            Braund, Mr. Owen Harris    male  22.0      1   \n",
       "1  Cumings, Mrs. John Bradley (Florence Briggs Th...  female  38.0      1   \n",
       "2                             Heikkinen, Miss. Laina  female  26.0      0   \n",
       "3       Futrelle, Mrs. Jacques Heath (Lily May Peel)  female  35.0      1   \n",
       "4                           Allen, Mr. William Henry    male  35.0      0   \n",
       "\n",
       "   Parch            Ticket     Fare Cabin Embarked  \n",
       "0      0         A/5 21171   7.2500   999        S  \n",
       "1      0          PC 17599  71.2833   C85        C  \n",
       "2      0  STON/O2. 3101282   7.9250   999        S  \n",
       "3      0            113803  53.1000  C123        S  \n",
       "4      0            373450   8.0500   999        S  "
      ]
     },
     "execution_count": 7,
     "metadata": {},
     "output_type": "execute_result"
    }
   ],
   "source": [
    "train.head(5)"
   ]
  },
  {
   "cell_type": "code",
   "execution_count": 8,
   "id": "9d78ea0e",
   "metadata": {
    "execution": {
     "iopub.execute_input": "2022-03-14T22:20:15.332963Z",
     "iopub.status.busy": "2022-03-14T22:20:15.332147Z",
     "iopub.status.idle": "2022-03-14T22:20:16.439779Z",
     "shell.execute_reply": "2022-03-14T22:20:16.440350Z",
     "shell.execute_reply.started": "2022-03-14T22:18:25.139612Z"
    },
    "papermill": {
     "duration": 1.136385,
     "end_time": "2022-03-14T22:20:16.440565",
     "exception": false,
     "start_time": "2022-03-14T22:20:15.304180",
     "status": "completed"
    },
    "tags": []
   },
   "outputs": [
    {
     "name": "stdout",
     "output_type": "stream",
     "text": [
      "['female' 'male']\n",
      "['C' 'Q' 'S' 'U']\n"
     ]
    }
   ],
   "source": [
    "from sklearn import preprocessing\n",
    "le= preprocessing.LabelEncoder()\n",
    "cols=[\"Sex\",\"Embarked\"]\n",
    "for i in cols :\n",
    "    train[i]= le.fit_transform(train[i]) # fit label encoder and return encoder labels\n",
    "    test[i] =le.transform(test[i]) #transform label to normalized encoding\n",
    "    \n",
    "    print(le.classes_)\n",
    "    \n",
    "# 0 female 1 male"
   ]
  },
  {
   "cell_type": "code",
   "execution_count": 9,
   "id": "2c7ed8c2",
   "metadata": {
    "execution": {
     "iopub.execute_input": "2022-03-14T22:20:16.489376Z",
     "iopub.status.busy": "2022-03-14T22:20:16.488315Z",
     "iopub.status.idle": "2022-03-14T22:20:16.505681Z",
     "shell.execute_reply": "2022-03-14T22:20:16.505162Z",
     "shell.execute_reply.started": "2022-03-14T22:18:25.154738Z"
    },
    "papermill": {
     "duration": 0.043042,
     "end_time": "2022-03-14T22:20:16.505828",
     "exception": false,
     "start_time": "2022-03-14T22:20:16.462786",
     "status": "completed"
    },
    "tags": []
   },
   "outputs": [
    {
     "data": {
      "text/html": [
       "<div>\n",
       "<style scoped>\n",
       "    .dataframe tbody tr th:only-of-type {\n",
       "        vertical-align: middle;\n",
       "    }\n",
       "\n",
       "    .dataframe tbody tr th {\n",
       "        vertical-align: top;\n",
       "    }\n",
       "\n",
       "    .dataframe thead th {\n",
       "        text-align: right;\n",
       "    }\n",
       "</style>\n",
       "<table border=\"1\" class=\"dataframe\">\n",
       "  <thead>\n",
       "    <tr style=\"text-align: right;\">\n",
       "      <th></th>\n",
       "      <th>PassengerId</th>\n",
       "      <th>Survived</th>\n",
       "      <th>Pclass</th>\n",
       "      <th>Name</th>\n",
       "      <th>Sex</th>\n",
       "      <th>Age</th>\n",
       "      <th>SibSp</th>\n",
       "      <th>Parch</th>\n",
       "      <th>Ticket</th>\n",
       "      <th>Fare</th>\n",
       "      <th>Cabin</th>\n",
       "      <th>Embarked</th>\n",
       "    </tr>\n",
       "  </thead>\n",
       "  <tbody>\n",
       "    <tr>\n",
       "      <th>0</th>\n",
       "      <td>1</td>\n",
       "      <td>0</td>\n",
       "      <td>3</td>\n",
       "      <td>Braund, Mr. Owen Harris</td>\n",
       "      <td>1</td>\n",
       "      <td>22.0</td>\n",
       "      <td>1</td>\n",
       "      <td>0</td>\n",
       "      <td>A/5 21171</td>\n",
       "      <td>7.2500</td>\n",
       "      <td>999</td>\n",
       "      <td>2</td>\n",
       "    </tr>\n",
       "    <tr>\n",
       "      <th>1</th>\n",
       "      <td>2</td>\n",
       "      <td>1</td>\n",
       "      <td>1</td>\n",
       "      <td>Cumings, Mrs. John Bradley (Florence Briggs Th...</td>\n",
       "      <td>0</td>\n",
       "      <td>38.0</td>\n",
       "      <td>1</td>\n",
       "      <td>0</td>\n",
       "      <td>PC 17599</td>\n",
       "      <td>71.2833</td>\n",
       "      <td>C85</td>\n",
       "      <td>0</td>\n",
       "    </tr>\n",
       "    <tr>\n",
       "      <th>2</th>\n",
       "      <td>3</td>\n",
       "      <td>1</td>\n",
       "      <td>3</td>\n",
       "      <td>Heikkinen, Miss. Laina</td>\n",
       "      <td>0</td>\n",
       "      <td>26.0</td>\n",
       "      <td>0</td>\n",
       "      <td>0</td>\n",
       "      <td>STON/O2. 3101282</td>\n",
       "      <td>7.9250</td>\n",
       "      <td>999</td>\n",
       "      <td>2</td>\n",
       "    </tr>\n",
       "    <tr>\n",
       "      <th>3</th>\n",
       "      <td>4</td>\n",
       "      <td>1</td>\n",
       "      <td>1</td>\n",
       "      <td>Futrelle, Mrs. Jacques Heath (Lily May Peel)</td>\n",
       "      <td>0</td>\n",
       "      <td>35.0</td>\n",
       "      <td>1</td>\n",
       "      <td>0</td>\n",
       "      <td>113803</td>\n",
       "      <td>53.1000</td>\n",
       "      <td>C123</td>\n",
       "      <td>2</td>\n",
       "    </tr>\n",
       "    <tr>\n",
       "      <th>4</th>\n",
       "      <td>5</td>\n",
       "      <td>0</td>\n",
       "      <td>3</td>\n",
       "      <td>Allen, Mr. William Henry</td>\n",
       "      <td>1</td>\n",
       "      <td>35.0</td>\n",
       "      <td>0</td>\n",
       "      <td>0</td>\n",
       "      <td>373450</td>\n",
       "      <td>8.0500</td>\n",
       "      <td>999</td>\n",
       "      <td>2</td>\n",
       "    </tr>\n",
       "  </tbody>\n",
       "</table>\n",
       "</div>"
      ],
      "text/plain": [
       "   PassengerId  Survived  Pclass  \\\n",
       "0            1         0       3   \n",
       "1            2         1       1   \n",
       "2            3         1       3   \n",
       "3            4         1       1   \n",
       "4            5         0       3   \n",
       "\n",
       "                                                Name  Sex   Age  SibSp  Parch  \\\n",
       "0                            Braund, Mr. Owen Harris    1  22.0      1      0   \n",
       "1  Cumings, Mrs. John Bradley (Florence Briggs Th...    0  38.0      1      0   \n",
       "2                             Heikkinen, Miss. Laina    0  26.0      0      0   \n",
       "3       Futrelle, Mrs. Jacques Heath (Lily May Peel)    0  35.0      1      0   \n",
       "4                           Allen, Mr. William Henry    1  35.0      0      0   \n",
       "\n",
       "             Ticket     Fare Cabin  Embarked  \n",
       "0         A/5 21171   7.2500   999         2  \n",
       "1          PC 17599  71.2833   C85         0  \n",
       "2  STON/O2. 3101282   7.9250   999         2  \n",
       "3            113803  53.1000  C123         2  \n",
       "4            373450   8.0500   999         2  "
      ]
     },
     "execution_count": 9,
     "metadata": {},
     "output_type": "execute_result"
    }
   ],
   "source": [
    "train.head()"
   ]
  },
  {
   "cell_type": "raw",
   "id": "e71480d0",
   "metadata": {
    "papermill": {
     "duration": 0.022146,
     "end_time": "2022-03-14T22:20:16.550325",
     "exception": false,
     "start_time": "2022-03-14T22:20:16.528179",
     "status": "completed"
    },
    "tags": []
   },
   "source": [
    "from sklearn.linear_model import LogisticRegression "
   ]
  },
  {
   "cell_type": "markdown",
   "id": "3e47812c",
   "metadata": {
    "papermill": {
     "duration": 0.022861,
     "end_time": "2022-03-14T22:20:16.595926",
     "exception": false,
     "start_time": "2022-03-14T22:20:16.573065",
     "status": "completed"
    },
    "tags": []
   },
   "source": [
    "# from sklearn.linear_model import LogisticRegression "
   ]
  },
  {
   "cell_type": "code",
   "execution_count": 10,
   "id": "2b85cedd",
   "metadata": {
    "execution": {
     "iopub.execute_input": "2022-03-14T22:20:16.647598Z",
     "iopub.status.busy": "2022-03-14T22:20:16.646903Z",
     "iopub.status.idle": "2022-03-14T22:20:16.768818Z",
     "shell.execute_reply": "2022-03-14T22:20:16.768056Z",
     "shell.execute_reply.started": "2022-03-14T22:18:25.180660Z"
    },
    "papermill": {
     "duration": 0.148751,
     "end_time": "2022-03-14T22:20:16.768972",
     "exception": false,
     "start_time": "2022-03-14T22:20:16.620221",
     "status": "completed"
    },
    "tags": []
   },
   "outputs": [],
   "source": [
    "from sklearn.linear_model import LogisticRegression\n",
    "from sklearn.model_selection import train_test_split"
   ]
  },
  {
   "cell_type": "code",
   "execution_count": 11,
   "id": "65b75cba",
   "metadata": {
    "execution": {
     "iopub.execute_input": "2022-03-14T22:20:16.828963Z",
     "iopub.status.busy": "2022-03-14T22:20:16.824195Z",
     "iopub.status.idle": "2022-03-14T22:20:16.831482Z",
     "shell.execute_reply": "2022-03-14T22:20:16.832094Z",
     "shell.execute_reply.started": "2022-03-14T22:18:25.194602Z"
    },
    "papermill": {
     "duration": 0.039628,
     "end_time": "2022-03-14T22:20:16.832310",
     "exception": false,
     "start_time": "2022-03-14T22:20:16.792682",
     "status": "completed"
    },
    "tags": []
   },
   "outputs": [],
   "source": [
    "X= train[features] #tt saufe Survived\n",
    "y=train[\"Survived\"]"
   ]
  },
  {
   "cell_type": "code",
   "execution_count": 12,
   "id": "d57fb628",
   "metadata": {
    "execution": {
     "iopub.execute_input": "2022-03-14T22:20:16.883082Z",
     "iopub.status.busy": "2022-03-14T22:20:16.882320Z",
     "iopub.status.idle": "2022-03-14T22:20:16.888488Z",
     "shell.execute_reply": "2022-03-14T22:20:16.889046Z",
     "shell.execute_reply.started": "2022-03-14T22:18:25.209606Z"
    },
    "papermill": {
     "duration": 0.033553,
     "end_time": "2022-03-14T22:20:16.889264",
     "exception": false,
     "start_time": "2022-03-14T22:20:16.855711",
     "status": "completed"
    },
    "tags": []
   },
   "outputs": [],
   "source": [
    "train_X, val_X, train_y, val_y = train_test_split(X, y, test_size=0.2 ,random_state=42)\n",
    "\n"
   ]
  },
  {
   "cell_type": "code",
   "execution_count": 13,
   "id": "b4afb53f",
   "metadata": {
    "execution": {
     "iopub.execute_input": "2022-03-14T22:20:16.940686Z",
     "iopub.status.busy": "2022-03-14T22:20:16.939973Z",
     "iopub.status.idle": "2022-03-14T22:20:16.974136Z",
     "shell.execute_reply": "2022-03-14T22:20:16.974790Z",
     "shell.execute_reply.started": "2022-03-14T22:18:25.224838Z"
    },
    "papermill": {
     "duration": 0.06169,
     "end_time": "2022-03-14T22:20:16.975008",
     "exception": false,
     "start_time": "2022-03-14T22:20:16.913318",
     "status": "completed"
    },
    "tags": []
   },
   "outputs": [],
   "source": [
    "clf=LogisticRegression(random_state=0).fit(train_X , train_y)"
   ]
  },
  {
   "cell_type": "code",
   "execution_count": 14,
   "id": "62b7cc72",
   "metadata": {
    "execution": {
     "iopub.execute_input": "2022-03-14T22:20:17.024866Z",
     "iopub.status.busy": "2022-03-14T22:20:17.024041Z",
     "iopub.status.idle": "2022-03-14T22:20:17.033790Z",
     "shell.execute_reply": "2022-03-14T22:20:17.034404Z",
     "shell.execute_reply.started": "2022-03-14T22:18:25.263798Z"
    },
    "papermill": {
     "duration": 0.036637,
     "end_time": "2022-03-14T22:20:17.034624",
     "exception": false,
     "start_time": "2022-03-14T22:20:16.997987",
     "status": "completed"
    },
    "tags": []
   },
   "outputs": [
    {
     "data": {
      "text/plain": [
       "0.7877094972067039"
      ]
     },
     "execution_count": 14,
     "metadata": {},
     "output_type": "execute_result"
    }
   ],
   "source": [
    "predicitions=clf.predict(val_X)\n",
    "from sklearn.metrics import accuracy_score\n",
    "accuracy_score(val_y, predicitions)"
   ]
  },
  {
   "cell_type": "code",
   "execution_count": 15,
   "id": "f41cf55a",
   "metadata": {
    "execution": {
     "iopub.execute_input": "2022-03-14T22:20:17.085877Z",
     "iopub.status.busy": "2022-03-14T22:20:17.085193Z",
     "iopub.status.idle": "2022-03-14T22:20:17.095275Z",
     "shell.execute_reply": "2022-03-14T22:20:17.095917Z",
     "shell.execute_reply.started": "2022-03-14T22:18:38.875621Z"
    },
    "papermill": {
     "duration": 0.037942,
     "end_time": "2022-03-14T22:20:17.096132",
     "exception": false,
     "start_time": "2022-03-14T22:20:17.058190",
     "status": "completed"
    },
    "tags": []
   },
   "outputs": [],
   "source": [
    "submission_preds=clf.predict(test[features])"
   ]
  },
  {
   "cell_type": "code",
   "execution_count": 16,
   "id": "c0b67240",
   "metadata": {
    "execution": {
     "iopub.execute_input": "2022-03-14T22:20:17.147212Z",
     "iopub.status.busy": "2022-03-14T22:20:17.146434Z",
     "iopub.status.idle": "2022-03-14T22:20:17.155662Z",
     "shell.execute_reply": "2022-03-14T22:20:17.156216Z",
     "shell.execute_reply.started": "2022-03-14T22:18:35.382163Z"
    },
    "papermill": {
     "duration": 0.036301,
     "end_time": "2022-03-14T22:20:17.156443",
     "exception": false,
     "start_time": "2022-03-14T22:20:17.120142",
     "status": "completed"
    },
    "tags": []
   },
   "outputs": [],
   "source": [
    "output = pd.DataFrame({'PassengerId': test_ids.values,\n",
    "                       'Survived': submission_preds})\n",
    "output.to_csv('submission.csv', index=False)\n",
    "\n"
   ]
  },
  {
   "cell_type": "code",
   "execution_count": 17,
   "id": "ce603a13",
   "metadata": {
    "execution": {
     "iopub.execute_input": "2022-03-14T22:20:17.208510Z",
     "iopub.status.busy": "2022-03-14T22:20:17.207446Z",
     "iopub.status.idle": "2022-03-14T22:20:17.219872Z",
     "shell.execute_reply": "2022-03-14T22:20:17.220430Z",
     "shell.execute_reply.started": "2022-03-14T22:19:48.382448Z"
    },
    "papermill": {
     "duration": 0.039945,
     "end_time": "2022-03-14T22:20:17.220632",
     "exception": false,
     "start_time": "2022-03-14T22:20:17.180687",
     "status": "completed"
    },
    "tags": []
   },
   "outputs": [
    {
     "data": {
      "text/html": [
       "<div>\n",
       "<style scoped>\n",
       "    .dataframe tbody tr th:only-of-type {\n",
       "        vertical-align: middle;\n",
       "    }\n",
       "\n",
       "    .dataframe tbody tr th {\n",
       "        vertical-align: top;\n",
       "    }\n",
       "\n",
       "    .dataframe thead th {\n",
       "        text-align: right;\n",
       "    }\n",
       "</style>\n",
       "<table border=\"1\" class=\"dataframe\">\n",
       "  <thead>\n",
       "    <tr style=\"text-align: right;\">\n",
       "      <th></th>\n",
       "      <th>PassengerId</th>\n",
       "      <th>Survived</th>\n",
       "    </tr>\n",
       "  </thead>\n",
       "  <tbody>\n",
       "    <tr>\n",
       "      <th>0</th>\n",
       "      <td>892</td>\n",
       "      <td>0</td>\n",
       "    </tr>\n",
       "    <tr>\n",
       "      <th>1</th>\n",
       "      <td>893</td>\n",
       "      <td>1</td>\n",
       "    </tr>\n",
       "    <tr>\n",
       "      <th>2</th>\n",
       "      <td>894</td>\n",
       "      <td>0</td>\n",
       "    </tr>\n",
       "    <tr>\n",
       "      <th>3</th>\n",
       "      <td>895</td>\n",
       "      <td>0</td>\n",
       "    </tr>\n",
       "    <tr>\n",
       "      <th>4</th>\n",
       "      <td>896</td>\n",
       "      <td>1</td>\n",
       "    </tr>\n",
       "    <tr>\n",
       "      <th>...</th>\n",
       "      <td>...</td>\n",
       "      <td>...</td>\n",
       "    </tr>\n",
       "    <tr>\n",
       "      <th>413</th>\n",
       "      <td>1305</td>\n",
       "      <td>0</td>\n",
       "    </tr>\n",
       "    <tr>\n",
       "      <th>414</th>\n",
       "      <td>1306</td>\n",
       "      <td>1</td>\n",
       "    </tr>\n",
       "    <tr>\n",
       "      <th>415</th>\n",
       "      <td>1307</td>\n",
       "      <td>0</td>\n",
       "    </tr>\n",
       "    <tr>\n",
       "      <th>416</th>\n",
       "      <td>1308</td>\n",
       "      <td>0</td>\n",
       "    </tr>\n",
       "    <tr>\n",
       "      <th>417</th>\n",
       "      <td>1309</td>\n",
       "      <td>0</td>\n",
       "    </tr>\n",
       "  </tbody>\n",
       "</table>\n",
       "<p>418 rows × 2 columns</p>\n",
       "</div>"
      ],
      "text/plain": [
       "     PassengerId  Survived\n",
       "0            892         0\n",
       "1            893         1\n",
       "2            894         0\n",
       "3            895         0\n",
       "4            896         1\n",
       "..           ...       ...\n",
       "413         1305         0\n",
       "414         1306         1\n",
       "415         1307         0\n",
       "416         1308         0\n",
       "417         1309         0\n",
       "\n",
       "[418 rows x 2 columns]"
      ]
     },
     "execution_count": 17,
     "metadata": {},
     "output_type": "execute_result"
    }
   ],
   "source": [
    "output"
   ]
  }
 ],
 "metadata": {
  "kernelspec": {
   "display_name": "Python 3",
   "language": "python",
   "name": "python3"
  },
  "language_info": {
   "codemirror_mode": {
    "name": "ipython",
    "version": 3
   },
   "file_extension": ".py",
   "mimetype": "text/x-python",
   "name": "python",
   "nbconvert_exporter": "python",
   "pygments_lexer": "ipython3",
   "version": "3.7.12"
  },
  "papermill": {
   "default_parameters": {},
   "duration": 14.208306,
   "end_time": "2022-03-14T22:20:18.157094",
   "environment_variables": {},
   "exception": null,
   "input_path": "__notebook__.ipynb",
   "output_path": "__notebook__.ipynb",
   "parameters": {},
   "start_time": "2022-03-14T22:20:03.948788",
   "version": "2.3.3"
  }
 },
 "nbformat": 4,
 "nbformat_minor": 5
}
